{
 "cells": [
  {
   "cell_type": "code",
   "execution_count": 1,
   "metadata": {},
   "outputs": [
    {
     "name": "stdout",
     "output_type": "stream",
     "text": [
      "Loading the module: helpers.general_helpers\n",
      "\n",
      "Loading the module: helpers.stats_helpers.py\n",
      "\n",
      "numpy        2.0.1\n",
      "scipy         1.14.0\n",
      "pandas        2.2.2\n",
      "\n",
      "Loading the module: helpers.mpl_plotting_helpers\n",
      "\n",
      "Loading the module: helpers.argcheck_helpers\n",
      "\n",
      "Loading the module: helpers.pandas_helpers\n",
      "\n",
      "pandas        2.2.2\n",
      "numpy         2.0.1\n",
      "\n",
      "matplotlib    3.9.1\n",
      "numpy         2.0.1\n",
      "\n"
     ]
    },
    {
     "name": "stderr",
     "output_type": "stream",
     "text": [
      "/home/aurorathaho/python312/lib/python3.12/site-packages/helpers/mph_modules/dotplots.py:641: SyntaxWarning: invalid escape sequence '\\g'\n",
      "  string = f\"${p_or_q}\\geq{items[0][0]}$ omitted\\n\"\n",
      "/home/aurorathaho/python312/lib/python3.12/site-packages/helpers/mph_modules/dotplots.py:645: SyntaxWarning: invalid escape sequence '\\g'\n",
      "  string = f\"{'n.s.':<9}: ${p_or_q}\\geq{items[0][0]}$\"\n"
     ]
    }
   ],
   "source": [
    "# importables\n",
    "\n",
    "from helpers import general_helpers as gh\n",
    "from helpers import stats_helpers as sh\n",
    "from helpers import mpl_plotting_helpers as mph\n",
    "from helpers import western_helpers as wh\n",
    "import glob\n",
    "import os\n",
    "import shutil\n",
    "\n",
    "import matplotlib.pyplot as plt\n",
    "\n",
    "import pandas as pd"
   ]
  },
  {
   "cell_type": "code",
   "execution_count": 2,
   "metadata": {},
   "outputs": [
    {
     "name": "stdout",
     "output_type": "stream",
     "text": [
      "['mediumvioletred', 'darkmagenta', 'deeppink', 'violet', 'magenta', 'pink', 'lavenderblush']\n"
     ]
    }
   ],
   "source": [
    "# Start off with a single file to see how it goes\n",
    "files = glob.glob(\"./csf1r_xls/*.xls\")\n",
    "# This list is in order of how they appear in the directory, just because\n",
    "# I'm a lazy ho\n",
    "drugs = [\"Cytochasalin D_CSF1RCAR\", \"Pexidartinib_CSF1RCAR\", \"PLX5622_CSF1RCAR\", \n",
    "         \"PP1_CSF1RCAR\", \"Vimseltinib_CSF1RCAR\"]\n",
    "statsfiles = [[f\"{d}/csf1r_stats\", f\"{d}/erk_stats\"] for d in drugs]\n",
    "picfiles = [[f\"{d}/csf1r_dotplot.pdf\", f\"{d}/erk_dotplot.pdf\"] for d in drugs]\n",
    "\n",
    "for d in drugs:\n",
    "    if os.path.exists(d):\n",
    "        shutil.rmtree(d)\n",
    "    os.mkdir(d)\n",
    "\n",
    "labels = [\"DMSO 0m\", \"DMSO 2m\", \"0.2 uM\", \"2 uM\", \"20 uM\"]\n",
    "colours = mph.colours[\"pinks\"]\n",
    "print(colours)"
   ]
  },
  {
   "cell_type": "code",
   "execution_count": 3,
   "metadata": {},
   "outputs": [],
   "source": [
    "def grab_data(filename, gsize = 3, gnum = 5,\n",
    "              labels = [\"DMSO 0 min\", \"DMSO 2 min\", \"0.2 uM 2 min\", \"2 uM 2 min\", \"20 uM 2 min\"]):\n",
    "    #Assumes two datasets in one xls file, 15 samples total\n",
    "    file = [list(row) for row in pd.read_excel(filename).to_numpy()]\n",
    "    # t1 = target 1, t2 = target 2\n",
    "    t1 = file[:gsize*gnum*2] # 15 experimental, 15 control \n",
    "    t2 = file[gsize*gnum*2:] # another 15 experimental, 15 control\n",
    "    # Extract the signal data, the rest is irrelevant for stats\n",
    "    t1 = [row[3] for row in t1]\n",
    "    t2 = [row[3] for row in t2]\n",
    "    # Split into the two groups, experimental then control\n",
    "    # note that this ordering required me to quantify a specific\n",
    "    # way, you could also organise the excel file\n",
    "    t1 = [t1[:gsize*gnum], t1[gsize*gnum:]]\n",
    "    t2 = [t2[:gsize*gnum], t2[gsize*gnum:]]\n",
    "    # Correct based on control band intensities\n",
    "    t1 = wh.licor_correction(t1[0], t1[1])\n",
    "    t2 = wh.licor_correction(t2[0], t2[1])\n",
    "    # Get the mean of the 0 group for foldchanges\n",
    "    t1_0m_mean = sh.mean(t1[:gsize])\n",
    "    t2_0m_mean = sh.mean(t2[:gsize])\n",
    "    # Make the foldchanges\n",
    "    t1_fc = [item/t1_0m_mean for item in t1]\n",
    "    t2_fc = [item/t2_0m_mean for item in t2]\n",
    "    # Split into the groups of Group Size for the number of groups \n",
    "    t1_fc = [t1_fc[gsize*i:gsize*(i+1)] for i in range(gnum)]\n",
    "    t2_fc = [t2_fc[gsize*i:gsize*(i+1)] for i in range(gnum)]\n",
    "    # and add the labels back in\n",
    "    t1_fc = [[labels[i], t1_fc[i]] for i in range(gnum)]\n",
    "    t2_fc = [[labels[i], t2_fc[i]] for i in range(gnum)]\n",
    "    return t1_fc, t2_fc"
   ]
  },
  {
   "cell_type": "code",
   "execution_count": 4,
   "metadata": {},
   "outputs": [],
   "source": [
    "counter=0\n",
    "for f in files:\n",
    "    csf_fc, erk_fc = grab_data(f)\n",
    "    csf_stats = sh.HolmSidak(*csf_fc, override = True)\n",
    "    erk_stats = sh.HolmSidak(*erk_fc, override = True)\n",
    "    csf_stats.write_output(filename = statsfiles[counter][0])\n",
    "    erk_stats.write_output(filename = statsfiles[counter][1])\n",
    "    p1 = mph.dotplot(csf_fc, rotation = 90, comparisons = csf_stats.output[2],\n",
    "               colours= colours, ylabel = \"Fold-change\",\n",
    "                title = fr\"$\\alpha$-CSF1R pY783\"+f\"\\n{drugs[counter]}\",\n",
    "                filename = picfiles[counter][0])\n",
    "    p2 = mph.dotplot(erk_fc, rotation = 90, comparisons = erk_stats.output[2],\n",
    "               colours= colours, ylabel = \"Fold-change\",\n",
    "                title = fr\"$\\alpha$-Erk pT202Y204\"+f\"\\n{drugs[counter]}\",\n",
    "                filename = picfiles[counter][1])\n",
    "    counter+=1"
   ]
  }
 ],
 "metadata": {
  "kernelspec": {
   "display_name": "Python 3 (ipykernel)",
   "language": "python",
   "name": "python3"
  },
  "language_info": {
   "codemirror_mode": {
    "name": "ipython",
    "version": 3
   },
   "file_extension": ".py",
   "mimetype": "text/x-python",
   "name": "python",
   "nbconvert_exporter": "python",
   "pygments_lexer": "ipython3",
   "version": "3.12.5"
  }
 },
 "nbformat": 4,
 "nbformat_minor": 4
}
