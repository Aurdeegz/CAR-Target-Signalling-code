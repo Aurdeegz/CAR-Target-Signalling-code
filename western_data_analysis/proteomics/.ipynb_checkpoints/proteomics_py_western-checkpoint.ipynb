{
 "cells": [
  {
   "cell_type": "code",
   "execution_count": 2,
   "metadata": {},
   "outputs": [
    {
     "name": "stdout",
     "output_type": "stream",
     "text": [
      "Loading the module: helpers.general_helpers\n",
      "\n",
      "Loading the module: helpers.stats_helpers.py\n",
      "\n",
      "numpy        2.0.1\n",
      "scipy         1.14.0\n",
      "pandas        2.2.2\n",
      "\n",
      "Loading the module: helpers.mpl_plotting_helpers\n",
      "\n",
      "Loading the module: helpers.argcheck_helpers\n",
      "\n",
      "Loading the module: helpers.pandas_helpers\n",
      "\n",
      "pandas        2.2.2\n",
      "numpy         2.0.1\n",
      "\n",
      "matplotlib    3.9.1\n",
      "numpy         2.0.1\n",
      "\n"
     ]
    }
   ],
   "source": [
    "# importables\n",
    "\n",
    "from helpers import general_helpers as gh\n",
    "from helpers import stats_helpers as sh\n",
    "from helpers import mpl_plotting_helpers as mph\n",
    "from helpers import western_helpers as wh\n",
    "import glob\n",
    "import os\n",
    "import shutil\n",
    "\n",
    "import matplotlib.pyplot as plt\n",
    "\n",
    "import pandas as pd"
   ]
  },
  {
   "cell_type": "code",
   "execution_count": 7,
   "metadata": {},
   "outputs": [
    {
     "name": "stdout",
     "output_type": "stream",
     "text": [
      "[['steelblue', 'cyan', 'blue', 'darkblue', 'dodgerblue', 'lightblue', 'deepskyblue'], ['mediumvioletred', 'darkmagenta', 'deeppink', 'violet', 'magenta', 'pink', 'lavenderblush'], ['steelblue', 'cyan', 'blue', 'darkblue', 'dodgerblue', 'lightblue', 'deepskyblue'], ['mediumvioletred', 'darkmagenta', 'deeppink', 'violet', 'magenta', 'pink', 'lavenderblush']]\n"
     ]
    }
   ],
   "source": [
    "# Start off with a single file to see how it goes\n",
    "files = glob.glob(\"./py_xls_files/*.xls\")\n",
    "# This list is in order of how they appear in the directory, just because\n",
    "# I'm a lazy ho\n",
    "titles = [fr\"CD19-CAR + Raji\", \"CSF1R-CAR + THP-1\",\n",
    "          fr\"CD19-CAR + Raji\", \"CSF1R-CAR + THP-1\"]\n",
    "statsfiles = [\"./stats/py_cd19car_raji_proteomics.xlsx\",\n",
    "              \"./stats/py_csf1rcar_thp1_proteomics.xlsx\",\n",
    "              \"./stats/pCSF1R_cd19car_raji_proteomics.xlsx\",\n",
    "              \"./stats/pCSF1R_csf1rcar_thp1_proteomics.xlsx\",]\n",
    "picfiles = [\"./figs/py_cd19car_raji_proteomics.pdf\",\n",
    "              \"./figs/py_csf1rcar_thp1_proteomics.pdf\",\n",
    "            \"./figs/pCSF1R_cd19car_raji_proteomics.pdf\",\n",
    "              \"./figs/pCSF1R_csf1rcar_thp1_proteomics.pdf\"]\n",
    "\n",
    "labels = [\"0 min\", \"2 min\", \"5 min\"]\n",
    "colours = [mph.colours[\"blues\"],\n",
    "           mph.colours[\"pinks\"],\n",
    "           mph.colours[\"blues\"],\n",
    "           mph.colours[\"pinks\"]]\n",
    "print(colours)"
   ]
  },
  {
   "cell_type": "code",
   "execution_count": null,
   "metadata": {},
   "outputs": [],
   "source": []
  },
  {
   "cell_type": "code",
   "execution_count": 8,
   "metadata": {},
   "outputs": [],
   "source": [
    "def grab_data(filename, gsize = 3, gnum = 5,\n",
    "              labels = [\"DMSO 0 min\", \"DMSO 2 min\", \"0.2 uM 2 min\", \"2 uM 2 min\", \"20 uM 2 min\"]):\n",
    "    ## Commented out t2 because there's only one target in these xls files\n",
    "    \n",
    "    #Assumes two datasets in one xls file, 15 samples total\n",
    "    file = [list(row) for row in pd.read_excel(filename).to_numpy()]\n",
    "    # t1 = target 1, t2 = target 2\n",
    "    t1 = file[:gsize*gnum*2] # 15 experimental, 15 control \n",
    "    #t2 = file[gsize*gnum*2:] # another 15 experimental, 15 control\n",
    "    # Extract the signal data, the rest is irrelevant for stats\n",
    "    t1 = [row[3] for row in t1]\n",
    "    #t2 = [row[3] for row in t2]\n",
    "    # Split into the two groups, experimental then control\n",
    "    # note that this ordering required me to quantify a specific\n",
    "    # way, you could also organise the excel file\n",
    "    t1 = [t1[:gsize*gnum], t1[gsize*gnum:]]\n",
    "    #t2 = [t2[:gsize*gnum], t2[gsize*gnum:]]\n",
    "    # Correct based on control band intensities\n",
    "    t1 = wh.licor_correction(t1[0], t1[1])\n",
    "    #t2 = wh.licor_correction(t2[0], t2[1])\n",
    "    # Get the mean of the 0 group for foldchanges\n",
    "    t1_0m_mean = sh.mean(t1[:gsize])\n",
    "    #t2_0m_mean = sh.mean(t2[:gsize])\n",
    "    # Make the foldchanges\n",
    "    t1_fc = [item/t1_0m_mean for item in t1]\n",
    "    #t2_fc = [item/t2_0m_mean for item in t2]\n",
    "    # Split into the groups of Group Size for the number of groups \n",
    "    t1_fc = [t1_fc[gsize*i:gsize*(i+1)] for i in range(gnum)]\n",
    "    #t2_fc = [t2_fc[gsize*i:gsize*(i+1)] for i in range(gnum)]\n",
    "    # and add the labels back in\n",
    "    t1_fc = [[labels[i], t1_fc[i]] for i in range(gnum)]\n",
    "    #t2_fc = [[labels[i], t2_fc[i]] for i in range(gnum)]\n",
    "    return t1_fc #, t2_fc"
   ]
  },
  {
   "cell_type": "code",
   "execution_count": 12,
   "metadata": {},
   "outputs": [],
   "source": [
    "counter=0\n",
    "for f in files:\n",
    "    py_fc = grab_data(f,\n",
    "                      gnum = 3,\n",
    "                      gsize = 4,\n",
    "                      labels = labels)\n",
    "    py_stats = sh.HolmSidak(*py_fc, override = True)\n",
    "    py_stats.write_output(filename = statsfiles[counter])\n",
    "    p1 = mph.dotplot(py_fc, rotation = 90, comparisons = py_stats.output[2],\n",
    "               colours= colours[counter], ylabel = fr\"$\\alpha$-pY Fold-change\",\n",
    "                title = fr\"{titles[counter]}\",\n",
    "                filename = picfiles[counter],\n",
    "                    ymin = 0,\n",
    "                    ymax = 2.5,\n",
    "                    figsize = (2,4.5),\n",
    "                    markersize = 20,\n",
    "                    comp_fontsize = 6,\n",
    "                    tick_fontsize = 7,\n",
    "                    label_fontsize = 8,\n",
    "                    title_fontsize = 8)\n",
    "    counter+=1"
   ]
  }
 ],
 "metadata": {
  "kernelspec": {
   "display_name": "Python 3 (ipykernel)",
   "language": "python",
   "name": "python3"
  },
  "language_info": {
   "codemirror_mode": {
    "name": "ipython",
    "version": 3
   },
   "file_extension": ".py",
   "mimetype": "text/x-python",
   "name": "python",
   "nbconvert_exporter": "python",
   "pygments_lexer": "ipython3",
   "version": "3.12.5"
  }
 },
 "nbformat": 4,
 "nbformat_minor": 4
}
